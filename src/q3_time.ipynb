{
 "cells": [
  {
   "cell_type": "code",
   "execution_count": 7,
   "metadata": {},
   "outputs": [
    {
     "data": {
      "text/plain": [
       "[('narendramodi', 2261),\n",
       " ('Kisanektamorcha', 1836),\n",
       " ('RakeshTikaitBKU', 1639),\n",
       " ('PMOIndia', 1422),\n",
       " ('RahulGandhi', 1125),\n",
       " ('GretaThunberg', 1046),\n",
       " ('RaviSinghKA', 1015),\n",
       " ('rihanna', 972),\n",
       " ('UNHumanRights', 962),\n",
       " ('meenaharris', 925)]"
      ]
     },
     "execution_count": 7,
     "metadata": {},
     "output_type": "execute_result"
    }
   ],
   "source": [
    "# Optimizado en tiempo de ejecución #\n",
    "\n",
    "from collections import Counter\n",
    "from typing import List, Tuple\n",
    "import re\n",
    "import json\n",
    "\n",
    "# Compilar la expresión regular una sola vez\n",
    "pattern = re.compile(r'@(\\w+)')\n",
    "\n",
    "def q3_time(file_path: str) -> List[Tuple[str, int]]:\n",
    "    usernames = []\n",
    "    \n",
    "    # Leer todo el archivo en memoria\n",
    "    with open(file_path, 'r') as file:\n",
    "        lines = file.readlines()\n",
    "    \n",
    "    for line in lines:\n",
    "        try:\n",
    "            data = json.loads(line.strip())\n",
    "            if 'content' in data:\n",
    "                content = data['content']\n",
    "                # Extraer los nombres de usuario\n",
    "                usernames.extend(pattern.findall(content))\n",
    "        except json.JSONDecodeError:\n",
    "            continue\n",
    "    \n",
    "    # Contar el número de veces que aparece cada nombre de usuario\n",
    "    username_counts = Counter(usernames)\n",
    "    # Top 10 nombres de usuario\n",
    "    top_10_usernames = username_counts.most_common(10)\n",
    "\n",
    "    return top_10_usernames\n",
    "\n",
    "file_path = '/Users/juanignaciomagarinoscastro/Downloads/farmers-protest-tweets-2021-2-4.json'\n",
    "q3_time(file_path)\n"
   ]
  }
 ],
 "metadata": {
  "kernelspec": {
   "display_name": "Python 3",
   "language": "python",
   "name": "python3"
  },
  "language_info": {
   "codemirror_mode": {
    "name": "ipython",
    "version": 3
   },
   "file_extension": ".py",
   "mimetype": "text/x-python",
   "name": "python",
   "nbconvert_exporter": "python",
   "pygments_lexer": "ipython3",
   "version": "3.11.9"
  }
 },
 "nbformat": 4,
 "nbformat_minor": 2
}
