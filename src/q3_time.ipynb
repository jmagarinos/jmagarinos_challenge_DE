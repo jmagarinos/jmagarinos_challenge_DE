{
 "cells": [
  {
   "cell_type": "code",
   "execution_count": 21,
   "metadata": {},
   "outputs": [
    {
     "name": "stdout",
     "output_type": "stream",
     "text": [
      "[('narendramodi', 22610), ('Kisanektamorcha', 18360), ('RakeshTikaitBKU', 16390), ('PMOIndia', 14220), ('RahulGandhi', 11250), ('GretaThunberg', 10460), ('RaviSinghKA', 10150), ('rihanna', 9720), ('UNHumanRights', 9620), ('meenaharris', 9250)]\n"
     ]
    }
   ],
   "source": [
    "import psutil\n",
    "import os\n",
    "from collections import Counter\n",
    "from typing import List, Tuple\n",
    "import re\n",
    "import ujson as json  # Usar ujson para un análisis JSON más rápido\n",
    "from concurrent.futures import ThreadPoolExecutor\n",
    "\n",
    "# Compilar la expresión regular una sola vez\n",
    "pattern = re.compile(r'@(\\w+)')\n",
    "\n",
    "# Función para procesar un grupo de líneas y extraer nombres de usuario\n",
    "def process_lines(lines: List[str]) -> Counter:\n",
    "    usernames = Counter()\n",
    "    for line in lines:\n",
    "        try:\n",
    "            data = json.loads(line.strip())\n",
    "            if 'content' in data:\n",
    "                content = data['content']\n",
    "                # Extraer los nombres de usuario\n",
    "                usernames.update(pattern.findall(content))\n",
    "        except json.JSONDecodeError:\n",
    "            continue\n",
    "    return usernames\n",
    "\n",
    "def q3_time(file_path: str) -> List[Tuple[str, int]]:\n",
    "    chunk_size = 30  # Tamaño del lote de líneas para procesar\n",
    "    \n",
    "    total_counter = Counter()\n",
    "    \n",
    "    # Usar ThreadPoolExecutor para paralelizar el procesamiento de líneas\n",
    "    with ThreadPoolExecutor(max_workers=8) as executor:  # Ajustar basado en el número de núcleos de CPU\n",
    "        with open(file_path, 'r') as file:\n",
    "            # Leer y procesar el archivo en bloques\n",
    "            chunk = []\n",
    "            for line in file:\n",
    "                chunk.append(line)\n",
    "                if len(chunk) >= chunk_size:\n",
    "                    future = executor.submit(process_lines, chunk)\n",
    "                    total_counter.update(future.result())\n",
    "                    chunk = []\n",
    "            # Procesar el último bloque si hay líneas restantes\n",
    "            if chunk:\n",
    "                future = executor.submit(process_lines, chunk)\n",
    "                total_counter.update(future.result())\n",
    "    \n",
    "    # Top 10 nombres de usuario\n",
    "    top_10_usernames = total_counter.most_common(10)\n",
    "    \n",
    "    return top_10_usernames\n",
    "\n",
    "# Ruta del archivo JSON a procesar\n",
    "file_path = '/Users/juanignaciomagarinoscastro/Downloads/farmers-protest-tweets-2021-2-4-large.json'\n",
    "top_10_usernames = q3_time(file_path)\n",
    "print(top_10_usernames)\n"
   ]
  },
  {
   "cell_type": "code",
   "execution_count": 20,
   "metadata": {},
   "outputs": [
    {
     "name": "stdout",
     "output_type": "stream",
     "text": [
      "Uso de memoria antes de cargar el archivo: 325.5625 MB\n",
      "Uso de memoria después de procesar los datos: 240.78125 MB\n",
      "Uso de memoria después de contar los nombres de usuario: 240.78125 MB\n"
     ]
    },
    {
     "data": {
      "text/plain": [
       "[('narendramodi', 22610),\n",
       " ('Kisanektamorcha', 18360),\n",
       " ('RakeshTikaitBKU', 16390),\n",
       " ('PMOIndia', 14220),\n",
       " ('RahulGandhi', 11250),\n",
       " ('GretaThunberg', 10460),\n",
       " ('RaviSinghKA', 10150),\n",
       " ('rihanna', 9720),\n",
       " ('UNHumanRights', 9620),\n",
       " ('meenaharris', 9250)]"
      ]
     },
     "execution_count": 20,
     "metadata": {},
     "output_type": "execute_result"
    }
   ],
   "source": [
    "from collections import Counter\n",
    "from typing import List, Tuple\n",
    "import re\n",
    "import ujson as json\n",
    "from concurrent.futures import ThreadPoolExecutor\n",
    "import mmap\n",
    "\n",
    "# Compilar la expresión regular una sola vez\n",
    "pattern = re.compile(r'@(\\w+)')\n",
    "\n",
    "def process_lines(lines: List[bytes]) -> Counter:\n",
    "    local_counter = Counter()\n",
    "    for line in lines:\n",
    "        try:\n",
    "            data = json.loads(line.decode().strip())\n",
    "            if 'content' in data:\n",
    "                content = data['content']\n",
    "                local_counter.update(pattern.findall(content))\n",
    "        except json.JSONDecodeError:\n",
    "            continue\n",
    "    return local_counter\n",
    "\n",
    "def q3_memory(file_path: str) -> List[Tuple[str, int]]:\n",
    "    usernames = Counter()\n",
    "    with open(file_path, 'r') as file:\n",
    "        with mmap.mmap(file.fileno(), 0, access=mmap.ACCESS_READ) as mm:\n",
    "            # Convertir el mmap en bytes y dividir por nuevas líneas\n",
    "            lines = mm.read().splitlines()\n",
    "\n",
    "    # Dividir las líneas en bloques y procesar en paralelo\n",
    "    with ThreadPoolExecutor() as executor:\n",
    "        results = list(executor.map(process_lines, [lines[i:i+1000] for i in range(0, len(lines), 1000)]))\n",
    "    \n",
    "    # Combinar los contadores\n",
    "    for result in results:\n",
    "        usernames.update(result)\n",
    "    \n",
    "    # Top 10 nombres de usuario\n",
    "    top_10_usernames = usernames.most_common(10)\n",
    "    \n",
    "    return top_10_usernames\n",
    "\n"
   ]
  },
  {
   "cell_type": "code",
   "execution_count": 19,
   "metadata": {},
   "outputs": [
    {
     "data": {
      "text/plain": [
       "[('narendramodi', 2261),\n",
       " ('Kisanektamorcha', 1836),\n",
       " ('RakeshTikaitBKU', 1639),\n",
       " ('PMOIndia', 1422),\n",
       " ('RahulGandhi', 1125),\n",
       " ('GretaThunberg', 1046),\n",
       " ('RaviSinghKA', 1015),\n",
       " ('rihanna', 972),\n",
       " ('UNHumanRights', 962),\n",
       " ('meenaharris', 925)]"
      ]
     },
     "execution_count": 19,
     "metadata": {},
     "output_type": "execute_result"
    }
   ],
   "source": [
    "from collections import Counter\n",
    "from typing import List, Tuple\n",
    "import re\n",
    "import ujson as json\n",
    "\n",
    "# Compilar la expresión regular una sola vez\n",
    "pattern = re.compile(r'@(\\w+)')\n",
    "\n",
    "def q3_time(file_path: str) -> List[Tuple[str, int]]:\n",
    "    usernames = Counter()\n",
    "    \n",
    "    # Leer el archivo en bloques para mejorar el rendimiento\n",
    "    chunk_size = 1024 * 1024  # 1 MB\n",
    "    with open(file_path, 'r') as file:\n",
    "        buffer = ''\n",
    "        while True:\n",
    "            chunk = file.read(chunk_size)\n",
    "            if not chunk:\n",
    "                break\n",
    "            buffer += chunk\n",
    "            lines = buffer.split('\\n')\n",
    "            \n",
    "            # Procesar todas las líneas menos la última, que puede estar incompleta\n",
    "            for line in lines[:-1]:\n",
    "                try:\n",
    "                    data = json.loads(line.strip())\n",
    "                    if 'content' in data:\n",
    "                        content = data['content']\n",
    "                        # Extraer los nombres de usuario\n",
    "                        usernames.update(pattern.findall(content))\n",
    "                except json.JSONDecodeError:\n",
    "                    continue\n",
    "            \n",
    "            # Mantener la última línea parcial en el buffer\n",
    "            buffer = lines[-1]\n",
    "    \n",
    "    # Procesar la última línea si queda algo en el buffer\n",
    "    if buffer:\n",
    "        try:\n",
    "            data = json.loads(buffer.strip())\n",
    "            if 'content' in data:\n",
    "                content = data['content']\n",
    "                usernames.update(pattern.findall(content))\n",
    "        except json.JSONDecodeError:\n",
    "            pass\n",
    "    \n",
    "    # Top 10 nombres de usuario\n",
    "    top_10_usernames = usernames.most_common(10)\n",
    "    \n",
    "    return top_10_usernames\n",
    "\n",
    "file_path = '/Users/juanignaciomagarinoscastro/Downloads/farmers-protest-tweets-2021-2-4.json'\n",
    "q3_time(file_path)"
   ]
  },
  {
   "cell_type": "code",
   "execution_count": 20,
   "metadata": {},
   "outputs": [
    {
     "data": {
      "text/plain": [
       "[('narendramodi', 2261),\n",
       " ('Kisanektamorcha', 1836),\n",
       " ('RakeshTikaitBKU', 1639),\n",
       " ('PMOIndia', 1422),\n",
       " ('RahulGandhi', 1125),\n",
       " ('GretaThunberg', 1046),\n",
       " ('RaviSinghKA', 1015),\n",
       " ('rihanna', 972),\n",
       " ('UNHumanRights', 962),\n",
       " ('meenaharris', 925)]"
      ]
     },
     "execution_count": 20,
     "metadata": {},
     "output_type": "execute_result"
    }
   ],
   "source": [
    "from collections import Counter\n",
    "from typing import List, Tuple\n",
    "import re\n",
    "import ujson as json\n",
    "\n",
    "# Compilar la expresión regular una sola vez\n",
    "pattern = re.compile(r'@(\\w+)')\n",
    "\n",
    "def q3_time_optimized(file_path: str) -> List[Tuple[str, int]]:\n",
    "    usernames = Counter()\n",
    "    \n",
    "    # Leer el archivo línea por línea para evitar cargar todo en memoria\n",
    "    with open(file_path, 'r') as file:\n",
    "        for line in file:\n",
    "            try:\n",
    "                data = json.loads(line.strip())\n",
    "                if 'content' in data:\n",
    "                    content = data['content']\n",
    "                    # Extraer los nombres de usuario y actualizar el Counter\n",
    "                    usernames.update(pattern.findall(content))\n",
    "            except json.JSONDecodeError:\n",
    "                continue\n",
    "    \n",
    "    # Top 10 nombres de usuario\n",
    "    top_10_usernames = usernames.most_common(10)\n",
    "    \n",
    "    return top_10_usernames\n",
    "\n",
    "\n",
    "file_path = '/Users/juanignaciomagarinoscastro/Downloads/farmers-protest-tweets-2021-2-4.json'\n",
    "q3_time(file_path)"
   ]
  },
  {
   "cell_type": "code",
   "execution_count": null,
   "metadata": {},
   "outputs": [],
   "source": []
  },
  {
   "cell_type": "code",
   "execution_count": null,
   "metadata": {},
   "outputs": [],
   "source": []
  }
 ],
 "metadata": {
  "kernelspec": {
   "display_name": "Python 3",
   "language": "python",
   "name": "python3"
  },
  "language_info": {
   "codemirror_mode": {
    "name": "ipython",
    "version": 3
   },
   "file_extension": ".py",
   "mimetype": "text/x-python",
   "name": "python",
   "nbconvert_exporter": "python",
   "pygments_lexer": "ipython3",
   "version": "3.11.9"
  }
 },
 "nbformat": 4,
 "nbformat_minor": 2
}
