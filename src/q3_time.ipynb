{
 "cells": [
  {
   "cell_type": "code",
   "execution_count": 1,
   "metadata": {},
   "outputs": [
    {
     "name": "stdout",
     "output_type": "stream",
     "text": [
      "[('narendramodi', 2261), ('Kisanektamorcha', 1836), ('RakeshTikaitBKU', 1639), ('PMOIndia', 1422), ('RahulGandhi', 1125), ('GretaThunberg', 1046), ('RaviSinghKA', 1015), ('rihanna', 972), ('UNHumanRights', 962), ('meenaharris', 925)]\n"
     ]
    }
   ],
   "source": [
    "import os\n",
    "import pandas as pd\n",
    "from typing import List, Tuple\n",
    "import re\n",
    "\n",
    "def q3_time(file_path: str) -> List[Tuple[str, int]]:\n",
    "    all_files = []\n",
    "    \n",
    "    for root, dirs, files in os.walk(file_path):\n",
    "        if 'day=' in os.path.basename(root):\n",
    "            parquet_files = [os.path.join(root, file) for file in files if file.endswith('.parquet') and file != '.DS_Store']\n",
    "            if parquet_files:\n",
    "                all_files.extend(parquet_files)\n",
    "    \n",
    "    if not all_files:\n",
    "        raise ValueError(\"No parquet files found in the specified directory.\")\n",
    "\n",
    "    try:\n",
    "        df = pd.concat([pd.read_parquet(file) for file in all_files], ignore_index=True)\n",
    "    except Exception as e:\n",
    "        raise ValueError(f\"Error reading parquet files: {e}\")\n",
    "\n",
    "    if 'content' not in df.columns:\n",
    "        raise KeyError(\"'content' column not found in the DataFrame.\")\n",
    "\n",
    "    mention_pattern = re.compile(r'@(\\w+)')\n",
    "\n",
    "    df['mentions'] = df['content'].apply(lambda x: mention_pattern.findall(x))\n",
    "\n",
    "    exploded_mentions = df['mentions'].explode().reset_index(drop=True)\n",
    "    \n",
    "    mention_counts = exploded_mentions.value_counts().reset_index()\n",
    "    mention_counts.columns = ['username', 'count']\n",
    "    \n",
    "    top_mentions = mention_counts.head(10)\n",
    "\n",
    "    result = list(top_mentions.itertuples(index=False, name=None))\n",
    "    \n",
    "    return result\n",
    "\n",
    "file_path = '/Users/juanignaciomagarinoscastro/Downloads/tweets_by_date'\n",
    "result = q3_time(file_path)\n",
    "print(result)\n"
   ]
  },
  {
   "cell_type": "code",
   "execution_count": null,
   "metadata": {},
   "outputs": [],
   "source": []
  }
 ],
 "metadata": {
  "kernelspec": {
   "display_name": "Python 3",
   "language": "python",
   "name": "python3"
  },
  "language_info": {
   "codemirror_mode": {
    "name": "ipython",
    "version": 3
   },
   "file_extension": ".py",
   "mimetype": "text/x-python",
   "name": "python",
   "nbconvert_exporter": "python",
   "pygments_lexer": "ipython3",
   "version": "3.11.9"
  }
 },
 "nbformat": 4,
 "nbformat_minor": 2
}
