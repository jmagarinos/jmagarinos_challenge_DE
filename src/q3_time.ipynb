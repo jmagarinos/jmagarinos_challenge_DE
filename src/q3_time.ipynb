{
 "cells": [
  {
   "cell_type": "code",
   "execution_count": 21,
   "metadata": {},
   "outputs": [
    {
     "name": "stdout",
     "output_type": "stream",
     "text": [
      "[('narendramodi', 22610), ('Kisanektamorcha', 18360), ('RakeshTikaitBKU', 16390), ('PMOIndia', 14220), ('RahulGandhi', 11250), ('GretaThunberg', 10460), ('RaviSinghKA', 10150), ('rihanna', 9720), ('UNHumanRights', 9620), ('meenaharris', 9250)]\n"
     ]
    }
   ],
   "source": [
    "import psutil\n",
    "import os\n",
    "from collections import Counter\n",
    "from typing import List, Tuple\n",
    "import re\n",
    "import ujson as json  # Usar ujson para un análisis JSON más rápido\n",
    "from concurrent.futures import ThreadPoolExecutor\n",
    "\n",
    "# Compilar la expresión regular una sola vez\n",
    "pattern = re.compile(r'@(\\w+)')\n",
    "\n",
    "# Función para procesar un grupo de líneas y extraer nombres de usuario\n",
    "def process_lines(lines: List[str]) -> Counter:\n",
    "    usernames = Counter()\n",
    "    for line in lines:\n",
    "        try:\n",
    "            data = json.loads(line.strip())\n",
    "            if 'content' in data:\n",
    "                content = data['content']\n",
    "                # Extraer los nombres de usuario\n",
    "                usernames.update(pattern.findall(content))\n",
    "        except json.JSONDecodeError:\n",
    "            continue\n",
    "    return usernames\n",
    "\n",
    "def q3_time(file_path: str) -> List[Tuple[str, int]]:\n",
    "    chunk_size = 30  # Tamaño del lote de líneas para procesar\n",
    "    \n",
    "    total_counter = Counter()\n",
    "    \n",
    "    # Usar ThreadPoolExecutor para paralelizar el procesamiento de líneas\n",
    "    with ThreadPoolExecutor(max_workers=8) as executor:  # Ajustar basado en el número de núcleos de CPU\n",
    "        with open(file_path, 'r') as file:\n",
    "            # Leer y procesar el archivo en bloques\n",
    "            chunk = []\n",
    "            for line in file:\n",
    "                chunk.append(line)\n",
    "                if len(chunk) >= chunk_size:\n",
    "                    future = executor.submit(process_lines, chunk)\n",
    "                    total_counter.update(future.result())\n",
    "                    chunk = []\n",
    "            # Procesar el último bloque si hay líneas restantes\n",
    "            if chunk:\n",
    "                future = executor.submit(process_lines, chunk)\n",
    "                total_counter.update(future.result())\n",
    "    \n",
    "    # Top 10 nombres de usuario\n",
    "    top_10_usernames = total_counter.most_common(10)\n",
    "    \n",
    "    return top_10_usernames\n",
    "\n",
    "# Ruta del archivo JSON a procesar\n",
    "file_path = '/Users/juanignaciomagarinoscastro/Downloads/farmers-protest-tweets-2021-2-4-large.json'\n",
    "top_10_usernames = q3_time(file_path)\n",
    "print(top_10_usernames)\n"
   ]
  },
  {
   "cell_type": "code",
   "execution_count": 20,
   "metadata": {},
   "outputs": [
    {
     "name": "stdout",
     "output_type": "stream",
     "text": [
      "Uso de memoria antes de cargar el archivo: 325.5625 MB\n",
      "Uso de memoria después de procesar los datos: 240.78125 MB\n",
      "Uso de memoria después de contar los nombres de usuario: 240.78125 MB\n"
     ]
    },
    {
     "data": {
      "text/plain": [
       "[('narendramodi', 22610),\n",
       " ('Kisanektamorcha', 18360),\n",
       " ('RakeshTikaitBKU', 16390),\n",
       " ('PMOIndia', 14220),\n",
       " ('RahulGandhi', 11250),\n",
       " ('GretaThunberg', 10460),\n",
       " ('RaviSinghKA', 10150),\n",
       " ('rihanna', 9720),\n",
       " ('UNHumanRights', 9620),\n",
       " ('meenaharris', 9250)]"
      ]
     },
     "execution_count": 20,
     "metadata": {},
     "output_type": "execute_result"
    }
   ],
   "source": [
    "import psutil\n",
    "import os\n",
    "from collections import Counter\n",
    "from typing import List, Tuple\n",
    "import re\n",
    "import ujson as json  # Usar ujson para un análisis JSON más rápido\n",
    "from concurrent.futures import ThreadPoolExecutor\n",
    "\n",
    "# Compilar la expresión regular una sola vez\n",
    "pattern = re.compile(r'@(\\w+)')\n",
    "\n",
    "# Función para obtener el uso actual de memoria en MB\n",
    "def memory_usage() -> float:\n",
    "    process = psutil.Process(os.getpid())\n",
    "    mem_info = process.memory_info()\n",
    "    return mem_info.rss / 1024 / 1024  # Convertir a MB\n",
    "\n",
    "# Función para procesar un grupo de líneas y extraer nombres de usuario\n",
    "def process_lines(lines: List[str]) -> Counter:\n",
    "    usernames = Counter()\n",
    "    for line in lines:\n",
    "        try:\n",
    "            data = json.loads(line.strip())\n",
    "            if 'content' in data:\n",
    "                content = data['content']\n",
    "                # Extraer los nombres de usuario\n",
    "                usernames.update(pattern.findall(content))\n",
    "        except json.JSONDecodeError:\n",
    "            continue\n",
    "    return usernames\n",
    "\n",
    "def q3_time(file_path: str) -> List[Tuple[str, int]]:\n",
    "    print(f\"Uso de memoria antes de cargar el archivo: {memory_usage()} MB\")\n",
    "    \n",
    "    chunk_size = 30  # Tamaño del lote de líneas para procesar\n",
    "    \n",
    "    total_counter = Counter()\n",
    "    \n",
    "    # Usar ThreadPoolExecutor para paralelizar el procesamiento de líneas\n",
    "    with ThreadPoolExecutor(max_workers=8) as executor:  # Ajustar basado en el número de núcleos de CPU\n",
    "        with open(file_path, 'r') as file:\n",
    "            # Leer y procesar el archivo en bloques\n",
    "            chunk = []\n",
    "            for line in file:\n",
    "                chunk.append(line)\n",
    "                if len(chunk) >= chunk_size:\n",
    "                    future = executor.submit(process_lines, chunk)\n",
    "                    total_counter.update(future.result())\n",
    "                    chunk = []\n",
    "            # Procesar el último bloque si hay líneas restantes\n",
    "            if chunk:\n",
    "                future = executor.submit(process_lines, chunk)\n",
    "                total_counter.update(future.result())\n",
    "    \n",
    "    print(f\"Uso de memoria después de procesar los datos: {memory_usage()} MB\")\n",
    "    \n",
    "    # Top 10 nombres de usuario\n",
    "    top_10_usernames = total_counter.most_common(10)\n",
    "    \n",
    "    print(f\"Uso de memoria después de contar los nombres de usuario: {memory_usage()} MB\")\n",
    "    \n",
    "    return top_10_usernames\n",
    "\n",
    "# Ruta del archivo JSON a procesar\n",
    "file_path = '/Users/juanignaciomagarinoscastro/Downloads/farmers-protest-tweets-2021-2-4-large.json'\n",
    "q3_time(file_path)\n"
   ]
  },
  {
   "cell_type": "code",
   "execution_count": null,
   "metadata": {},
   "outputs": [],
   "source": []
  }
 ],
 "metadata": {
  "kernelspec": {
   "display_name": "Python 3",
   "language": "python",
   "name": "python3"
  },
  "language_info": {
   "codemirror_mode": {
    "name": "ipython",
    "version": 3
   },
   "file_extension": ".py",
   "mimetype": "text/x-python",
   "name": "python",
   "nbconvert_exporter": "python",
   "pygments_lexer": "ipython3",
   "version": "3.11.9"
  }
 },
 "nbformat": 4,
 "nbformat_minor": 2
}
