{
 "cells": [
  {
   "cell_type": "code",
   "execution_count": 3,
   "metadata": {},
   "outputs": [
    {
     "data": {
      "text/plain": [
       "[('narendramodi', 2261),\n",
       " ('Kisanektamorcha', 1836),\n",
       " ('RakeshTikaitBKU', 1639),\n",
       " ('PMOIndia', 1422),\n",
       " ('RahulGandhi', 1125),\n",
       " ('GretaThunberg', 1046),\n",
       " ('RaviSinghKA', 1015),\n",
       " ('rihanna', 972),\n",
       " ('UNHumanRights', 962),\n",
       " ('meenaharris', 925)]"
      ]
     },
     "execution_count": 3,
     "metadata": {},
     "output_type": "execute_result"
    }
   ],
   "source": [
    "from collections import Counter\n",
    "from typing import List, Tuple\n",
    "import re\n",
    "import ujson as json  # Usar ujson para un análisis JSON más rápido\n",
    "\n",
    "# Compilar la expresión regular una sola vez\n",
    "pattern = re.compile(r'@(\\w+)')\n",
    "\n",
    "def q3_memory(file_path: str) -> List[Tuple[str, int]]:\n",
    "    usernames = Counter()\n",
    "    \n",
    "    # Leer el archivo línea por línea para evitar cargar todo en memoria\n",
    "    with open(file_path, 'r') as file:\n",
    "        for line in file:\n",
    "            try:\n",
    "                data = json.loads(line.strip())\n",
    "                if 'content' in data:\n",
    "                    content = data['content']\n",
    "                    # Extraer los nombres de usuario\n",
    "                    usernames.update(pattern.findall(content))\n",
    "            except json.JSONDecodeError:\n",
    "                continue\n",
    "    \n",
    "    # Top 10 nombres de usuario\n",
    "    top_10_usernames = usernames.most_common(10)\n",
    "    \n",
    "    return top_10_usernames\n",
    "\n",
    "file_path = '/Users/juanignaciomagarinoscastro/Downloads/farmers-protest-tweets-2021-2-4.json'\n",
    "q3_memory(file_path)\n"
   ]
  },
  {
   "cell_type": "code",
   "execution_count": 5,
   "metadata": {},
   "outputs": [
    {
     "name": "stdout",
     "output_type": "stream",
     "text": [
      "Uso de memoria antes de procesar los datos: 23.9375 MB\n",
      "Uso de memoria después de procesar los datos: 30.96875 MB\n"
     ]
    },
    {
     "data": {
      "text/plain": [
       "[('narendramodi', 22610),\n",
       " ('Kisanektamorcha', 18360),\n",
       " ('RakeshTikaitBKU', 16390),\n",
       " ('PMOIndia', 14220),\n",
       " ('RahulGandhi', 11250),\n",
       " ('GretaThunberg', 10460),\n",
       " ('RaviSinghKA', 10150),\n",
       " ('rihanna', 9720),\n",
       " ('UNHumanRights', 9620),\n",
       " ('meenaharris', 9250)]"
      ]
     },
     "execution_count": 5,
     "metadata": {},
     "output_type": "execute_result"
    }
   ],
   "source": [
    "import psutil\n",
    "import os\n",
    "from collections import Counter\n",
    "from typing import List, Tuple\n",
    "import re\n",
    "import ujson as json  # Usar ujson para un análisis JSON más rápido\n",
    "\n",
    "# Compilar la expresión regular una sola vez\n",
    "pattern = re.compile(r'@(\\w+)')\n",
    "\n",
    "# Función para obtener el uso actual de memoria en MB\n",
    "def memory_usage() -> float:\n",
    "    process = psutil.Process(os.getpid())\n",
    "    mem_info = process.memory_info()\n",
    "    return mem_info.rss / 1024 / 1024  # Convertir a MB\n",
    "\n",
    "def q3_memory(file_path: str) -> List[Tuple[str, int]]:\n",
    "    print(f\"Uso de memoria antes de procesar los datos: {memory_usage()} MB\")\n",
    "    \n",
    "    usernames = Counter()\n",
    "    \n",
    "    # Leer el archivo línea por línea para evitar cargar todo en memoria\n",
    "    with open(file_path, 'r') as file:\n",
    "        for line in file:\n",
    "            try:\n",
    "                data = json.loads(line.strip())\n",
    "                if 'content' in data:\n",
    "                    content = data['content']\n",
    "                    # Extraer los nombres de usuario\n",
    "                    usernames.update(pattern.findall(content))\n",
    "            except json.JSONDecodeError:\n",
    "                continue\n",
    "    \n",
    "    # Top 10 nombres de usuario\n",
    "    top_10_usernames = usernames.most_common(10)\n",
    "    \n",
    "    print(f\"Uso de memoria después de procesar los datos: {memory_usage()} MB\")\n",
    "    \n",
    "    return top_10_usernames\n",
    "\n",
    "# Short file\n",
    "#file_path='/Users/juanignaciomagarinoscastro/Downloads/farmers-protest-tweets-2021-2-4.json'\n",
    "# Long file\n",
    "# Ruta del archivo JSON a procesar\n",
    "file_path = '/Users/juanignaciomagarinoscastro/Downloads/farmers-protest-tweets-2021-2-4-large.json'\n",
    "q3_memory(file_path)\n"
   ]
  },
  {
   "cell_type": "code",
   "execution_count": 1,
   "metadata": {},
   "outputs": [
    {
     "data": {
      "text/plain": [
       "[('narendramodi', 2261),\n",
       " ('Kisanektamorcha', 1836),\n",
       " ('RakeshTikaitBKU', 1639),\n",
       " ('PMOIndia', 1422),\n",
       " ('RahulGandhi', 1125),\n",
       " ('GretaThunberg', 1046),\n",
       " ('RaviSinghKA', 1015),\n",
       " ('rihanna', 972),\n",
       " ('UNHumanRights', 962),\n",
       " ('meenaharris', 925)]"
      ]
     },
     "execution_count": 1,
     "metadata": {},
     "output_type": "execute_result"
    }
   ],
   "source": [
    "from collections import Counter\n",
    "from typing import List, Tuple\n",
    "import re\n",
    "import ujson as json\n",
    "\n",
    "# Compilar la expresión regular una sola vez\n",
    "pattern = re.compile(r'@(\\w+)')\n",
    "\n",
    "def q3_memory(file_path: str) -> List[Tuple[str, int]]:\n",
    "    def process_file(file_path: str):\n",
    "        # Leer el archivo línea por línea\n",
    "        with open(file_path, 'r') as file:\n",
    "            for line in file:\n",
    "                try:\n",
    "                    data = json.loads(line.strip())\n",
    "                    if 'content' in data:\n",
    "                        content = data['content']\n",
    "                        # Extraer los nombres de usuario\n",
    "                        yield from pattern.findall(content)\n",
    "                except json.JSONDecodeError:\n",
    "                    continue\n",
    "    \n",
    "    usernames = Counter(process_file(file_path))\n",
    "    \n",
    "    # Top 10 nombres de usuario\n",
    "    top_10_usernames = usernames.most_common(10)\n",
    "    \n",
    "    return top_10_usernames\n",
    "\n",
    "\n",
    "# Short file\n",
    "file_path='/Users/juanignaciomagarinoscastro/Downloads/farmers-protest-tweets-2021-2-4.json'\n",
    "# Long file\n",
    "# Ruta del archivo JSON a procesar\n",
    "#file_path = '/Users/juanignaciomagarinoscastro/Downloads/farmers-protest-tweets-2021-2-4-large.json'\n",
    "q3_memory(file_path)"
   ]
  },
  {
   "cell_type": "code",
   "execution_count": null,
   "metadata": {},
   "outputs": [],
   "source": []
  }
 ],
 "metadata": {
  "kernelspec": {
   "display_name": "Python 3",
   "language": "python",
   "name": "python3"
  },
  "language_info": {
   "codemirror_mode": {
    "name": "ipython",
    "version": 3
   },
   "file_extension": ".py",
   "mimetype": "text/x-python",
   "name": "python",
   "nbconvert_exporter": "python",
   "pygments_lexer": "ipython3",
   "version": "3.11.9"
  }
 },
 "nbformat": 4,
 "nbformat_minor": 2
}
