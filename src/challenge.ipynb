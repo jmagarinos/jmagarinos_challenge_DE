{
 "cells": [
  {
   "cell_type": "markdown",
   "metadata": {},
   "source": [
    "En este archivo puedes escribir lo que estimes conveniente. Te recomendamos detallar tu solución y todas las suposiciones que estás considerando. Aquí puedes ejecutar las funciones que definiste en los otros archivos de la carpeta src, medir el tiempo, memoria, etc."
   ]
  },
  {
   "cell_type": "code",
   "execution_count": 37,
   "metadata": {},
   "outputs": [],
   "source": [
    "import pandas as pd\n",
    "import pyarrow as pa\n",
    "import pyarrow.parquet as pq\n",
    "import os\n",
    "\n",
    "df = pd.read_json('/Users/juanignaciomagarinoscastro/Downloads/farmers-protest-tweets-2021-2-4.json', lines=True)\n",
    "\n",
    "df['date'] = pd.to_datetime(df['date'])\n",
    "df['year'] = df['date'].dt.year\n",
    "df['month'] = df['date'].dt.month.apply(lambda x: f'{x:02}')\n",
    "df['day'] = df['date'].dt.day.apply(lambda x: f'{x:02}')\n",
    "\n",
    "chunk_size = 5000\n",
    "\n",
    "output_path = '/Users/juanignaciomagarinoscastro/Downloads/tweets_by_date'"
   ]
  },
  {
   "cell_type": "code",
   "execution_count": 32,
   "metadata": {},
   "outputs": [],
   "source": [
    "if not os.path.exists(output_path):\n",
    "    os.makedirs(output_path)\n",
    "\n",
    "for (year, month, day), group in df.groupby(['year', 'month', 'day']):\n",
    "    partition_path = os.path.join(output_path, f'year={year}', f'month={month}', f'day={day}')\n",
    "    \n",
    "    if not os.path.exists(partition_path):\n",
    "        os.makedirs(partition_path)\n",
    "    \n",
    "    num_chunks = (len(group) // chunk_size) + 1\n",
    "    for i in range(num_chunks):\n",
    "        start_row = i * chunk_size\n",
    "        end_row = min(start_row + chunk_size, len(group))\n",
    "        chunk = group.iloc[start_row:end_row]\n",
    "        \n",
    "        chunk.to_parquet(\n",
    "            os.path.join(partition_path, f'farmers-protest-tweets-{year}{month}{day}_part_{i}.parquet'),\n",
    "            engine='pyarrow',\n",
    "            index=False\n",
    "        )"
   ]
  },
  {
   "cell_type": "code",
   "execution_count": null,
   "metadata": {},
   "outputs": [],
   "source": []
  }
 ],
 "metadata": {
  "kernelspec": {
   "display_name": "Python 3",
   "language": "python",
   "name": "python3"
  },
  "language_info": {
   "codemirror_mode": {
    "name": "ipython",
    "version": 3
   },
   "file_extension": ".py",
   "mimetype": "text/x-python",
   "name": "python",
   "nbconvert_exporter": "python",
   "pygments_lexer": "ipython3",
   "version": "3.11.9"
  },
  "orig_nbformat": 4
 },
 "nbformat": 4,
 "nbformat_minor": 2
}
