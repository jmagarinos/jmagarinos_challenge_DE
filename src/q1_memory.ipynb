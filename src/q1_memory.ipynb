{
 "cells": [
  {
   "cell_type": "code",
   "execution_count": 4,
   "metadata": {},
   "outputs": [
    {
     "data": {
      "text/plain": [
       "[(datetime.date(2021, 2, 12), 'RanbirS00614606'),\n",
       " (datetime.date(2021, 2, 13), 'MaanDee08215437'),\n",
       " (datetime.date(2021, 2, 17), 'rebelpacifist'),\n",
       " (datetime.date(2021, 2, 16), 'jot__b'),\n",
       " (datetime.date(2021, 2, 14), 'jot__b'),\n",
       " (datetime.date(2021, 2, 18), 'RaaJVinderkaur'),\n",
       " (datetime.date(2021, 2, 15), 'neetuanjle_nitu'),\n",
       " (datetime.date(2021, 2, 20), 'Preetm91'),\n",
       " (datetime.date(2021, 2, 23), 'MangalJ23056160'),\n",
       " (datetime.date(2021, 2, 19), 'Surrypuria')]"
      ]
     },
     "execution_count": 4,
     "metadata": {},
     "output_type": "execute_result"
    }
   ],
   "source": [
    "from typing import List, Tuple\n",
    "from datetime import datetime\n",
    "import pandas as pd\n",
    "import json\n",
    "\n",
    "def q1_memory(file_path: str) -> List[Tuple[datetime.date, str]]:\n",
    "    # Leer el archivo JSON línea por línea y procesarlo\n",
    "    data = []\n",
    "    with open(file_path, 'r') as json_file:\n",
    "        for line in json_file:\n",
    "            try:\n",
    "                item = json.loads(line.strip())\n",
    "                # Verificar que los campos necesarios están presentes antes de agregar\n",
    "                if 'date' in item and 'user' in item and 'id' in item:\n",
    "                    data.append((item['date'], item['user']['username']))\n",
    "            except json.JSONDecodeError:\n",
    "                # Manejar errores de decodificación JSON\n",
    "                continue\n",
    "    \n",
    "    # Convertir la lista de tuplas en un DataFrame de pandas\n",
    "    df = pd.DataFrame(data, columns=['date', 'user'])\n",
    "    \n",
    "    # Convertir el campo 'date' a formato datetime directamente sin conversiones intermedias\n",
    "    df['date'] = pd.to_datetime(df['date']).dt.date\n",
    "\n",
    "    # Calcular la cantidad de tweets por fecha y encontrar las 10 fechas con más tweets\n",
    "    tweet_counts = df['date'].value_counts().nlargest(10)\n",
    "    top_10_dates = tweet_counts.index\n",
    "\n",
    "    # Filtrar el DataFrame para incluir solo las fechas top 10\n",
    "    df_top_10 = df[df['date'].isin(top_10_dates)]\n",
    "    \n",
    "    # Encontrar el usuario con más tweets para cada una de las fechas top 10\n",
    "    top_users = df_top_10.groupby('date')['user'].agg(lambda x: x.value_counts().idxmax())\n",
    "\n",
    "    # Convertir el resultado a una lista de tuplas con (fecha, usuario)\n",
    "    result = [(date, user) for date, user in zip(top_10_dates, top_users)]\n",
    "    \n",
    "    return result\n",
    "\n",
    "# Ruta del archivo JSON a procesar\n",
    "file_path = '/Users/juanignaciomagarinoscastro/Downloads/farmers-protest-tweets-2021-2-4.json'\n",
    "q1_memory(file_path)\n"
   ]
  },
  {
   "cell_type": "code",
   "execution_count": 8,
   "metadata": {},
   "outputs": [
    {
     "name": "stdout",
     "output_type": "stream",
     "text": [
      "Memory usage before loading data: 229.890625 MB\n",
      "Memory usage after reading JSON: 114.78125 MB\n",
      "Memory usage after creating DataFrame: 452.5625 MB\n",
      "Memory usage after filtering top 10 dates: 488.953125 MB\n",
      "Memory usage after finalizing results: 459.859375 MB\n"
     ]
    },
    {
     "data": {
      "text/plain": [
       "[(datetime.date(2021, 2, 12), 'RanbirS00614606'),\n",
       " (datetime.date(2021, 2, 13), 'MaanDee08215437'),\n",
       " (datetime.date(2021, 2, 17), 'rebelpacifist'),\n",
       " (datetime.date(2021, 2, 16), 'jot__b'),\n",
       " (datetime.date(2021, 2, 14), 'jot__b'),\n",
       " (datetime.date(2021, 2, 18), 'RaaJVinderkaur'),\n",
       " (datetime.date(2021, 2, 15), 'neetuanjle_nitu'),\n",
       " (datetime.date(2021, 2, 20), 'Preetm91'),\n",
       " (datetime.date(2021, 2, 23), 'MangalJ23056160'),\n",
       " (datetime.date(2021, 2, 19), 'Surrypuria')]"
      ]
     },
     "execution_count": 8,
     "metadata": {},
     "output_type": "execute_result"
    }
   ],
   "source": [
    "import psutil\n",
    "import os\n",
    "from typing import List, Tuple\n",
    "from datetime import datetime\n",
    "import pandas as pd\n",
    "import json\n",
    "\n",
    "# Función para obtener el uso de memoria en MB\n",
    "def memory_usage():\n",
    "    process = psutil.Process(os.getpid())\n",
    "    mem_info = process.memory_info()\n",
    "    return mem_info.rss / 1024 / 1024  # Convertir a MB\n",
    "\n",
    "def q1_memory(file_path: str) -> List[Tuple[datetime.date, str]]:\n",
    "    print(f\"Memory usage before loading data: {memory_usage()} MB\")\n",
    "    \n",
    "    # Leer el archivo JSON línea por línea y procesarlo\n",
    "    data = []\n",
    "    with open(file_path, 'r') as json_file:\n",
    "        for line in json_file:\n",
    "            try:\n",
    "                item = json.loads(line.strip())\n",
    "                # Verificar que los campos necesarios están presentes antes de agregar\n",
    "                if 'date' in item and 'user' in item and 'id' in item:\n",
    "                    data.append((item['date'], item['user']['username']))\n",
    "            except json.JSONDecodeError:\n",
    "                continue\n",
    "    \n",
    "    print(f\"Memory usage after reading JSON: {memory_usage()} MB\")\n",
    "\n",
    "    # Convertir la lista de tuplas en un DataFrame de pandas\n",
    "    df = pd.DataFrame(data, columns=['date', 'user'])\n",
    "    \n",
    "    # Convertir el campo 'date' a formato datetime directamente\n",
    "    df['date'] = pd.to_datetime(df['date']).dt.date\n",
    "    \n",
    "    print(f\"Memory usage after creating DataFrame: {memory_usage()} MB\")\n",
    "\n",
    "    # Calcular la cantidad de tweets por fecha y encontrar las 10 fechas con más tweets\n",
    "    tweet_counts = df['date'].value_counts().nlargest(10)\n",
    "    top_10_dates = tweet_counts.index\n",
    "\n",
    "    # Filtrar el DataFrame para incluir solo las fechas top 10\n",
    "    df_top_10 = df[df['date'].isin(top_10_dates)]\n",
    "    \n",
    "    print(f\"Memory usage after filtering top 10 dates: {memory_usage()} MB\")\n",
    "\n",
    "    # Encontrar el usuario con más tweets para cada una de las fechas top 10\n",
    "    top_users = df_top_10.groupby('date')['user'].agg(lambda x: x.value_counts().idxmax())\n",
    "\n",
    "    # Convertir el resultado a una lista de tuplas con (fecha, usuario)\n",
    "    result = [(date, user) for date, user in zip(top_10_dates, top_users)]\n",
    "    \n",
    "    print(f\"Memory usage after finalizing results: {memory_usage()} MB\")\n",
    "\n",
    "    return result\n",
    "\n",
    "\n",
    "# Ruta del archivo JSON a procesar\n",
    "# Short file\n",
    "#file_path='/Users/juanignaciomagarinoscastro/Downloads/farmers-protest-tweets-2021-2-4.json'\n",
    "# Long file\n",
    "file_path = '/Users/juanignaciomagarinoscastro/Downloads/farmers-protest-tweets-2021-2-4-large.json'\n",
    "q1_memory(file_path)\n"
   ]
  },
  {
   "cell_type": "code",
   "execution_count": 6,
   "metadata": {},
   "outputs": [],
   "source": [
    "def generate_large_file(original_file_path: str, new_file_path: str, multiplier: int):\n",
    "    with open(original_file_path, 'r') as original_file:\n",
    "        lines = original_file.readlines()\n",
    "    \n",
    "    with open(new_file_path, 'w') as new_file:\n",
    "        for _ in range(multiplier):\n",
    "            new_file.writelines(lines)\n",
    "\n",
    "# Ruta del archivo original\n",
    "original_file_path = '/Users/juanignaciomagarinoscastro/Downloads/farmers-protest-tweets-2021-2-4.json'\n",
    "# Ruta del nuevo archivo\n",
    "new_file_path = '/Users/juanignaciomagarinoscastro/Downloads/farmers-protest-tweets-2021-2-4-large.json'\n",
    "# Multiplicador para duplicar los datos\n",
    "multiplier = 10\n",
    "\n",
    "generate_large_file(original_file_path, new_file_path, multiplier)\n"
   ]
  },
  {
   "cell_type": "code",
   "execution_count": null,
   "metadata": {},
   "outputs": [],
   "source": []
  }
 ],
 "metadata": {
  "kernelspec": {
   "display_name": "Python 3",
   "language": "python",
   "name": "python3"
  },
  "language_info": {
   "codemirror_mode": {
    "name": "ipython",
    "version": 3
   },
   "file_extension": ".py",
   "mimetype": "text/x-python",
   "name": "python",
   "nbconvert_exporter": "python",
   "pygments_lexer": "ipython3",
   "version": "3.11.9"
  }
 },
 "nbformat": 4,
 "nbformat_minor": 2
}
