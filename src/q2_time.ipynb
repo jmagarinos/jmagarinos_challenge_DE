{
 "cells": [
  {
   "cell_type": "code",
   "execution_count": 13,
   "metadata": {},
   "outputs": [
    {
     "data": {
      "text/plain": [
       "[('🙏', 5049),\n",
       " ('😂', 3072),\n",
       " ('🚜', 2972),\n",
       " ('🌾', 2182),\n",
       " ('🇮🇳', 2086),\n",
       " ('🤣', 1668),\n",
       " ('✊', 1651),\n",
       " ('❤️', 1382),\n",
       " ('🙏🏻', 1317),\n",
       " ('💚', 1040)]"
      ]
     },
     "execution_count": 13,
     "metadata": {},
     "output_type": "execute_result"
    }
   ],
   "source": [
    "from collections import Counter\n",
    "from typing import List, Tuple\n",
    "import emoji\n",
    "import json\n",
    "\n",
    "def q2_time(file_path: str) -> List[Tuple[str, int]]:\n",
    "    emoji_counter = Counter()\n",
    "\n",
    "    # Leer todo el archivo en memoria\n",
    "    with open(file_path, 'r') as file_data:\n",
    "        lines = file_data.readlines()\n",
    "\n",
    "    for line in lines:\n",
    "        try:\n",
    "            data = json.loads(line)\n",
    "            content = data.get(\"content\", \"\")\n",
    "            # Contar emojis directamente si hay contenido\n",
    "            if content:\n",
    "                for value in emoji.analyze(content):\n",
    "                    emoji_counter[value.chars] += 1\n",
    "        except (json.JSONDecodeError, KeyError):\n",
    "            # Manejar posibles errores en la carga de JSON\n",
    "            continue\n",
    "\n",
    "    # Rankear top 10 emojis más usados\n",
    "    top_10_emojis = emoji_counter.most_common(10)\n",
    "    return top_10_emojis\n",
    "\n",
    "file_path = '/Users/juanignaciomagarinoscastro/Downloads/farmers-protest-tweets-2021-2-4.json'\n",
    "q2_time(file_path)"
   ]
  },
  {
   "cell_type": "code",
   "execution_count": null,
   "metadata": {},
   "outputs": [],
   "source": []
  }
 ],
 "metadata": {
  "kernelspec": {
   "display_name": "Python 3",
   "language": "python",
   "name": "python3"
  },
  "language_info": {
   "codemirror_mode": {
    "name": "ipython",
    "version": 3
   },
   "file_extension": ".py",
   "mimetype": "text/x-python",
   "name": "python",
   "nbconvert_exporter": "python",
   "pygments_lexer": "ipython3",
   "version": "3.11.9"
  }
 },
 "nbformat": 4,
 "nbformat_minor": 2
}
