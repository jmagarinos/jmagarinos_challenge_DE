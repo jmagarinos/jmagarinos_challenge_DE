{
 "cells": [
  {
   "cell_type": "code",
   "execution_count": 8,
   "metadata": {},
   "outputs": [
    {
     "name": "stdout",
     "output_type": "stream",
     "text": [
      "[('🙏', 7286), ('😂', 3072), ('🚜', 2972), ('✊', 2411), ('🌾', 2363), ('❤', 1779), ('👇', 1108), ('💚', 1040), ('💪', 947), ('👍', 834)]\n"
     ]
    }
   ],
   "source": [
    "import os\n",
    "import pandas as pd\n",
    "from typing import List, Tuple\n",
    "import re\n",
    "import emoji\n",
    "\n",
    "# Regular expression pattern to match potential emojis, excluding skin tone modifiers\n",
    "emoji_pattern = re.compile(\n",
    "    \"[\\U0001F600-\\U0001F64F\"  # Emoticons\n",
    "    \"\\U0001F300-\\U0001F5FF\"  # Symbols & pictographs\n",
    "    \"\\U0001F680-\\U0001F6FF\"  # Transport & map symbols\n",
    "    \"\\U0001F1E0-\\U0001F1FF\"  # Flags (iOS)\n",
    "    \"\\U00002702-\\U000027B0\"  # Dingbats\n",
    "    \"\\U000024C2-\\U0001F251\"  # Enclosed characters\n",
    "    \"\\U0001F926-\\U0001F937\"  # Supplemental symbols & pictographs\n",
    "    \"]+\", flags=re.UNICODE)\n",
    "\n",
    "# List of known emoji modifiers (e.g., skin tones)\n",
    "emoji_modifiers = {'🏻', '🏼', '🏽', '🏾', '🏿'}\n",
    "\n",
    "def q2_time(file_path: str) -> List[Tuple[str, int]]:\n",
    "    all_files = []\n",
    "    \n",
    "    # Recursively traverse directories\n",
    "    for root, dirs, files in os.walk(file_path):\n",
    "        if 'day=' in os.path.basename(root):\n",
    "            parquet_files = [os.path.join(root, file) for file in files if file.endswith('.parquet') and file != '.DS_Store']\n",
    "            if parquet_files:\n",
    "                all_files.extend(parquet_files)\n",
    "    \n",
    "    if not all_files:\n",
    "        raise ValueError(\"No parquet files found in the specified directory.\")\n",
    "\n",
    "    try:\n",
    "        df = pd.concat([pd.read_parquet(file) for file in all_files], ignore_index=True)\n",
    "    except Exception as e:\n",
    "        raise ValueError(f\"Error reading parquet files: {e}\")\n",
    "\n",
    "    # Ensure 'content' column exists\n",
    "    if 'content' not in df.columns:\n",
    "        raise KeyError(\"'content' column not found in the DataFrame.\")\n",
    "\n",
    "    # Extract emojis from the 'content' column\n",
    "    df['emojis'] = df['content'].apply(lambda x: ''.join(emoji_pattern.findall(x)))\n",
    "\n",
    "    # Drop rows where no emojis are found\n",
    "    df = df[df['emojis'].str.strip() != '']\n",
    "    \n",
    "    # Explode the 'emojis' column to count each emoji individually\n",
    "    exploded_emojis = df['emojis'].apply(list).explode().reset_index(drop=True)\n",
    "    \n",
    "    # Filter out emoji modifiers and ensure the character is a valid emoji\n",
    "    exploded_emojis = exploded_emojis[exploded_emojis.apply(lambda x: x not in emoji_modifiers and emoji.is_emoji(x))]\n",
    "\n",
    "    # Count the occurrences of each emoji\n",
    "    emoji_counts = exploded_emojis.value_counts().reset_index()\n",
    "    emoji_counts.columns = ['emoji', 'count']\n",
    "    \n",
    "    # Get the top 10 most used emojis\n",
    "    top_emojis = emoji_counts.head(10)\n",
    "\n",
    "    # Convert the DataFrame to a list of tuples\n",
    "    result = list(top_emojis.itertuples(index=False, name=None))\n",
    "    \n",
    "    return result\n",
    "\n",
    "# Example usage\n",
    "file_path = '/Users/juanignaciomagarinoscastro/Downloads/tweets_by_date'\n",
    "result = q2_time(file_path)\n",
    "print(result)\n"
   ]
  },
  {
   "cell_type": "code",
   "execution_count": null,
   "metadata": {},
   "outputs": [],
   "source": []
  }
 ],
 "metadata": {
  "kernelspec": {
   "display_name": "Python 3",
   "language": "python",
   "name": "python3"
  },
  "language_info": {
   "codemirror_mode": {
    "name": "ipython",
    "version": 3
   },
   "file_extension": ".py",
   "mimetype": "text/x-python",
   "name": "python",
   "nbconvert_exporter": "python",
   "pygments_lexer": "ipython3",
   "version": "3.11.9"
  }
 },
 "nbformat": 4,
 "nbformat_minor": 2
}
