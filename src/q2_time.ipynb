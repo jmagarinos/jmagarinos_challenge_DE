{
 "cells": [
  {
   "cell_type": "code",
   "execution_count": 36,
   "metadata": {},
   "outputs": [
    {
     "data": {
      "text/plain": [
       "[('🙏', 50490),\n",
       " ('😂', 30720),\n",
       " ('🚜', 29720),\n",
       " ('🌾', 21820),\n",
       " ('🇮🇳', 20860),\n",
       " ('🤣', 16680),\n",
       " ('✊', 16510),\n",
       " ('❤️', 13820),\n",
       " ('🙏🏻', 13170),\n",
       " ('💚', 10400)]"
      ]
     },
     "execution_count": 36,
     "metadata": {},
     "output_type": "execute_result"
    }
   ],
   "source": [
    "import os\n",
    "from collections import Counter\n",
    "from typing import List, Tuple\n",
    "import ujson as json  # Usar ujson para un análisis JSON más rápido\n",
    "import emoji\n",
    "from concurrent.futures import ThreadPoolExecutor\n",
    "\n",
    "# Función para procesar un grupo de líneas y contar emojis\n",
    "def process_lines(lines: List[str]) -> Counter:\n",
    "    emoji_counter = Counter()\n",
    "    for line in lines:\n",
    "        try:\n",
    "            data = json.loads(line)\n",
    "            content = data.get(\"content\", \"\")\n",
    "            if content:\n",
    "                for value in emoji.analyze(content):\n",
    "                    emoji_counter[value.chars] += 1\n",
    "        except (json.JSONDecodeError, KeyError):\n",
    "            continue\n",
    "    return emoji_counter\n",
    "\n",
    "def q2_time(file_path: str) -> List[Tuple[str, int]]:\n",
    "    # Leer el archivo línea por línea\n",
    "    with open(file_path, 'r') as file_data:\n",
    "        lines = file_data.readlines()\n",
    "    \n",
    "    # Dividir las líneas en grupos para procesamiento en paralelo\n",
    "    num_threads = 24  # Ajustar basado en el número de núcleos de CPU\n",
    "    total_lines = len(lines)\n",
    "    chunk_size = (total_lines // num_threads) + (total_lines % num_threads > 0)  # Redondear hacia arriba\n",
    "    \n",
    "    # Usar ThreadPoolExecutor para paralelizar el procesamiento de líneas\n",
    "    with ThreadPoolExecutor(max_workers=num_threads) as executor:\n",
    "        futures = [executor.submit(process_lines, lines[i:i + chunk_size]) for i in range(0, total_lines, chunk_size)]\n",
    "    \n",
    "    # Reunir los resultados de todos los hilos\n",
    "    total_counter = Counter()\n",
    "    for future in futures:\n",
    "        total_counter.update(future.result())\n",
    "    \n",
    "    # Clasificar los 10 emojis más usados\n",
    "    top_10_emojis = total_counter.most_common(10)\n",
    "    \n",
    "    return top_10_emojis\n",
    "\n",
    "# Short file\n",
    "#file_path='/Users/juanignaciomagarinoscastro/Downloads/farmers-protest-tweets-2021-2-4.json'\n",
    "# Long file\n",
    "# Ruta del archivo JSON a procesar\n",
    "file_path = '/Users/juanignaciomagarinoscastro/Downloads/farmers-protest-tweets-2021-2-4-large.json'\n",
    "q2_time(file_path)\n"
   ]
  },
  {
   "cell_type": "code",
   "execution_count": 34,
   "metadata": {},
   "outputs": [
    {
     "name": "stdout",
     "output_type": "stream",
     "text": [
      "Uso de memoria antes de cargar los datos: 490.734375 MB\n",
      "Uso de memoria después de leer el archivo: 787.25 MB\n",
      "Uso de memoria después de procesar los datos: 4406.609375 MB\n",
      "Uso de memoria después de contar los emojis: 4406.6875 MB\n"
     ]
    },
    {
     "data": {
      "text/plain": [
       "[('🙏', 50490),\n",
       " ('😂', 30720),\n",
       " ('🚜', 29720),\n",
       " ('🌾', 21820),\n",
       " ('🇮🇳', 20860),\n",
       " ('🤣', 16680),\n",
       " ('✊', 16510),\n",
       " ('❤️', 13820),\n",
       " ('🙏🏻', 13170),\n",
       " ('💚', 10400)]"
      ]
     },
     "execution_count": 34,
     "metadata": {},
     "output_type": "execute_result"
    }
   ],
   "source": [
    "import psutil\n",
    "import os\n",
    "from collections import Counter\n",
    "from typing import List, Tuple\n",
    "import ujson as json  # Use ujson for faster JSON parsing\n",
    "import emoji\n",
    "from concurrent.futures import ThreadPoolExecutor\n",
    "\n",
    "# Función para obtener el uso actual de memoria en MB\n",
    "def memory_usage():\n",
    "    process = psutil.Process(os.getpid())\n",
    "    mem_info = process.memory_info()\n",
    "    return mem_info.rss / 1024 / 1024  # Convertir a MB\n",
    "\n",
    "# Función para procesar un grupo de líneas y contar emojis\n",
    "def process_lines(lines: List[str]) -> Counter:\n",
    "    emoji_counter = Counter()\n",
    "    for line in lines:\n",
    "        try:\n",
    "            data = json.loads(line)\n",
    "            content = data.get(\"content\", \"\")\n",
    "            if content:\n",
    "                for value in emoji.analyze(content):\n",
    "                    emoji_counter[value.chars] += 1\n",
    "        except (json.JSONDecodeError, KeyError):\n",
    "            continue\n",
    "    return emoji_counter\n",
    "\n",
    "def q2_time(file_path: str) -> List[Tuple[str, int]]:\n",
    "    print(f\"Uso de memoria antes de cargar los datos: {memory_usage()} MB\")\n",
    "\n",
    "    # Leer el archivo línea por línea\n",
    "    with open(file_path, 'r') as file_data:\n",
    "        lines = file_data.readlines()\n",
    "    \n",
    "    print(f\"Uso de memoria después de leer el archivo: {memory_usage()} MB\")\n",
    "    \n",
    "    # Dividir las líneas en grupos para procesamiento en paralelo\n",
    "    num_threads = 24  # Ajustar basado en el número de núcleos de CPU\n",
    "    total_lines = len(lines)\n",
    "    chunk_size = (total_lines // num_threads) + (total_lines % num_threads > 0)  # Redondear hacia arriba\n",
    "    \n",
    "    # Usar ThreadPoolExecutor para paralelizar el procesamiento de líneas\n",
    "    with ThreadPoolExecutor(max_workers=num_threads) as executor:\n",
    "        futures = [executor.submit(process_lines, lines[i:i + chunk_size]) for i in range(0, total_lines, chunk_size)]\n",
    "    \n",
    "    # Reunir los resultados de todos los hilos\n",
    "    total_counter = Counter()\n",
    "    for future in futures:\n",
    "        total_counter.update(future.result())\n",
    "    \n",
    "    print(f\"Uso de memoria después de procesar los datos: {memory_usage()} MB\")\n",
    "    \n",
    "    # Clasificar los 10 emojis más usados\n",
    "    top_10_emojis = total_counter.most_common(10)\n",
    "    \n",
    "    print(f\"Uso de memoria después de contar los emojis: {memory_usage()} MB\")\n",
    "    \n",
    "    return top_10_emojis\n",
    "\n",
    "# Short file\n",
    "#file_path='/Users/juanignaciomagarinoscastro/Downloads/farmers-protest-tweets-2021-2-4.json'\n",
    "# Long file\n",
    "# Ruta del archivo JSON a procesar\n",
    "file_path = '/Users/juanignaciomagarinoscastro/Downloads/farmers-protest-tweets-2021-2-4-large.json'\n",
    "q2_time(file_path)\n"
   ]
  },
  {
   "cell_type": "code",
   "execution_count": null,
   "metadata": {},
   "outputs": [],
   "source": []
  }
 ],
 "metadata": {
  "kernelspec": {
   "display_name": "Python 3",
   "language": "python",
   "name": "python3"
  },
  "language_info": {
   "codemirror_mode": {
    "name": "ipython",
    "version": 3
   },
   "file_extension": ".py",
   "mimetype": "text/x-python",
   "name": "python",
   "nbconvert_exporter": "python",
   "pygments_lexer": "ipython3",
   "version": "3.11.9"
  }
 },
 "nbformat": 4,
 "nbformat_minor": 2
}
