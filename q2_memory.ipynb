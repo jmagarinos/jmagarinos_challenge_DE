{
 "cells": [
  {
   "cell_type": "code",
   "execution_count": null,
   "metadata": {},
   "outputs": [],
   "source": [
    "from collections import Counter\n",
    "from typing import List, Tuple\n",
    "import emoji\n",
    "import json\n",
    "\n",
    "def q2_memory(file_path: str) -> List[Tuple[str, int]]:\n",
    "    emoji_counter = Counter()\n",
    "    \n",
    "    # Leer el archivo línea por línea para evitar cargar todo en memoria\n",
    "    with open(file_path, 'r') as file_data:\n",
    "        for line in file_data:\n",
    "            try:\n",
    "                data = json.loads(line)\n",
    "                content = data.get(\"content\", \"\")\n",
    "                # Contar emojis directamente si hay contenido\n",
    "                if content:\n",
    "                    for value in emoji.analyze(content):\n",
    "                        emoji_counter[value.chars] += 1\n",
    "            except (json.JSONDecodeError, KeyError):\n",
    "                # Manejar posibles errores en la carga de JSON\n",
    "                continue\n",
    "    \n",
    "    # Rankear top 10 emojis más usados\n",
    "    top_10_emojis = emoji_counter.most_common(10)\n",
    "    \n",
    "    return top_10_emojis\n",
    "\n",
    "# Ruta del archivo JSON a procesar\n",
    "file_path = '/Users/juanignaciomagarinoscastro/Downloads/farmers-protest-tweets-2021-2-4.json'\n",
    "q2_memory(file_path)\n"
   ]
  },
  {
   "cell_type": "code",
   "execution_count": 2,
   "metadata": {},
   "outputs": [
    {
     "name": "stdout",
     "output_type": "stream",
     "text": [
      "Memory usage before processing data: 29.71875 MB\n",
      "Memory usage after processing data: 17.765625 MB\n",
      "Memory usage after counting emojis: 19.578125 MB\n"
     ]
    },
    {
     "data": {
      "text/plain": [
       "[('🙏', 50490),\n",
       " ('😂', 30720),\n",
       " ('🚜', 29720),\n",
       " ('🌾', 21820),\n",
       " ('🇮🇳', 20860),\n",
       " ('🤣', 16680),\n",
       " ('✊', 16510),\n",
       " ('❤️', 13820),\n",
       " ('🙏🏻', 13170),\n",
       " ('💚', 10400)]"
      ]
     },
     "execution_count": 2,
     "metadata": {},
     "output_type": "execute_result"
    }
   ],
   "source": [
    "import psutil\n",
    "import os\n",
    "from collections import Counter\n",
    "from typing import List, Tuple\n",
    "import emoji\n",
    "import json\n",
    "\n",
    "# Función para obtener el uso actual de memoria en MB\n",
    "def memory_usage():\n",
    "    process = psutil.Process(os.getpid())\n",
    "    mem_info = process.memory_info()\n",
    "    return mem_info.rss / 1024 / 1024  # Convertir a MB\n",
    "\n",
    "def q2_memory(file_path: str) -> List[Tuple[str, int]]:\n",
    "    emoji_counter = Counter()\n",
    "    \n",
    "    # Imprimir uso de memoria antes de cargar el archivo\n",
    "    print(f\"Memory usage before processing data: {memory_usage()} MB\")\n",
    "\n",
    "    # Leer el archivo línea por línea para evitar cargar todo en memoria\n",
    "    with open(file_path, 'r') as file_data:\n",
    "        for line in file_data:\n",
    "            try:\n",
    "                data = json.loads(line)\n",
    "                content = data.get(\"content\", \"\")\n",
    "                # Contar emojis directamente si hay contenido\n",
    "                if content:\n",
    "                    for value in emoji.analyze(content):\n",
    "                        emoji_counter[value.chars] += 1\n",
    "            except (json.JSONDecodeError, KeyError):\n",
    "                # Manejar posibles errores en la carga de JSON\n",
    "                continue\n",
    "    \n",
    "    # Imprimir uso de memoria después de procesar el archivo\n",
    "    print(f\"Memory usage after processing data: {memory_usage()} MB\")\n",
    "    \n",
    "    # Rankear top 10 emojis más usados\n",
    "    top_10_emojis = emoji_counter.most_common(10)\n",
    "    \n",
    "    # Imprimir uso de memoria después de contar emojis\n",
    "    print(f\"Memory usage after counting emojis: {memory_usage()} MB\")\n",
    "    \n",
    "    return top_10_emojis\n",
    "\n",
    "# Short file\n",
    "#file_path='/Users/juanignaciomagarinoscastro/Downloads/farmers-protest-tweets-2021-2-4.json'\n",
    "# Long file\n",
    "file_path = '/Users/juanignaciomagarinoscastro/Downloads/farmers-protest-tweets-2021-2-4-large.json'\n",
    "q2_memory(file_path)\n"
   ]
  }
 ],
 "metadata": {
  "kernelspec": {
   "display_name": "Python 3",
   "language": "python",
   "name": "python3"
  },
  "language_info": {
   "codemirror_mode": {
    "name": "ipython",
    "version": 3
   },
   "file_extension": ".py",
   "mimetype": "text/x-python",
   "name": "python",
   "nbconvert_exporter": "python",
   "pygments_lexer": "ipython3",
   "version": "3.11.9"
  }
 },
 "nbformat": 4,
 "nbformat_minor": 2
}
