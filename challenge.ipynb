{
 "cells": [
  {
   "cell_type": "markdown",
   "metadata": {},
   "source": [
    "Challenge LATAM\n",
    "\n",
    "Nombre: Juan Ignacio Magariños Castro \n",
    "\n",
    "Empresa: Option\n",
    "\n",
    "Correo: jmagarinos@itba.edu.ar\n",
    "\n",
    "Descripción: El challenge se trata de optimizar funciones para que cumplan su funcionalidad en Memoria consumida y Tiempo de ejecucion.\n",
    "\n",
    "Input: Proporcionaron un archivo tipo json con metadata de tweets."
   ]
  },
  {
   "cell_type": "markdown",
   "metadata": {},
   "source": [
    "#-------------------------------------------------------------------------------------------------------------------------------------------#"
   ]
  },
  {
   "cell_type": "markdown",
   "metadata": {},
   "source": [
    "Propuesta de arquitectura Cloud AWS\n",
    "\n",
    "Draw IO: https://drive.google.com/file/d/1OALWAGB-obonV54VqrI8Uw9TqwyCDjpv/view?usp=sharing\n",
    "\n",
    "Image: https://drive.google.com/file/d/1gL0VRs7DSbaCRa697IAjSU8024te7lsC/view?usp=sharing\n",
    "\n",
    "Explicación de la propuesta: https://docs.google.com/document/d/10NKfR1D4OjS_wkCuAVuCYGwlYPlKXwIY4dJwwZv9i-k/edit?usp=sharing"
   ]
  },
  {
   "cell_type": "markdown",
   "metadata": {},
   "source": [
    "Notas: Utilice el archivo proporcionado (JSON) y pandas para el procesamiento del mismo dado el tamaño. Sin embargo, el modelo propuesto en cloud propone una estructura que contempla de mejor manera la escalabilidad usando Glue que procesa la data con Spark y parquet para el almacenamiento a lo largo del tiempo."
   ]
  },
  {
   "cell_type": "markdown",
   "metadata": {},
   "source": [
    "#-------------------------------------------------------------------------------------------------------------------------------------------#"
   ]
  },
  {
   "cell_type": "markdown",
   "metadata": {},
   "source": [
    "Repositorio ejemplo con Terraform/GitHub Actions\n",
    "\n",
    "https://github.com/jmagarinos/rabbit_data_analytics"
   ]
  },
  {
   "cell_type": "markdown",
   "metadata": {},
   "source": [
    "#-------------------------------------------------------------------------------------------------------------------------------------------#"
   ]
  },
  {
   "cell_type": "code",
   "execution_count": 2,
   "metadata": {},
   "outputs": [],
   "source": [
    "file_path = \"/Users/juanignaciomagarinoscastro/Downloads/farmers-protest-tweets-2021-2-4.json\""
   ]
  },
  {
   "cell_type": "code",
   "execution_count": 3,
   "metadata": {},
   "outputs": [],
   "source": [
    "from src import q1_memory, q1_time, q2_memory, q2_time, q3_memory, q3_time"
   ]
  },
  {
   "cell_type": "code",
   "execution_count": 4,
   "metadata": {},
   "outputs": [],
   "source": [
    "%load_ext memory_profiler"
   ]
  },
  {
   "cell_type": "markdown",
   "metadata": {},
   "source": [
    "#-------------------------------------------------------------------------------------------------------------------------------------------#"
   ]
  },
  {
   "cell_type": "markdown",
   "metadata": {},
   "source": [
    "Ejercicio 1"
   ]
  },
  {
   "cell_type": "markdown",
   "metadata": {},
   "source": [
    "Las top 10 fechas donde hay más tweets. Mencionar el usuario (username) que más publicaciones tiene por cada uno de esos días."
   ]
  },
  {
   "cell_type": "markdown",
   "metadata": {},
   "source": [
    "Time execution optimized"
   ]
  },
  {
   "cell_type": "code",
   "execution_count": 4,
   "metadata": {},
   "outputs": [
    {
     "data": {
      "text/plain": [
       "[(datetime.date(2021, 2, 12), 'RanbirS00614606'),\n",
       " (datetime.date(2021, 2, 13), 'MaanDee08215437'),\n",
       " (datetime.date(2021, 2, 17), 'rebelpacifist'),\n",
       " (datetime.date(2021, 2, 16), 'jot__b'),\n",
       " (datetime.date(2021, 2, 14), 'jot__b'),\n",
       " (datetime.date(2021, 2, 18), 'RaaJVinderkaur'),\n",
       " (datetime.date(2021, 2, 15), 'neetuanjle_nitu'),\n",
       " (datetime.date(2021, 2, 20), 'Preetm91'),\n",
       " (datetime.date(2021, 2, 23), 'MangalJ23056160'),\n",
       " (datetime.date(2021, 2, 19), 'Surrypuria')]"
      ]
     },
     "execution_count": 4,
     "metadata": {},
     "output_type": "execute_result"
    }
   ],
   "source": [
    "q1_time.q1_time(file_path)"
   ]
  },
  {
   "cell_type": "markdown",
   "metadata": {},
   "source": [
    "Memory execution optimized"
   ]
  },
  {
   "cell_type": "code",
   "execution_count": 21,
   "metadata": {},
   "outputs": [
    {
     "data": {
      "text/plain": [
       "[(datetime.date(2021, 2, 12), 'RanbirS00614606'),\n",
       " (datetime.date(2021, 2, 13), 'MaanDee08215437'),\n",
       " (datetime.date(2021, 2, 17), 'rebelpacifist'),\n",
       " (datetime.date(2021, 2, 16), 'jot__b'),\n",
       " (datetime.date(2021, 2, 14), 'jot__b'),\n",
       " (datetime.date(2021, 2, 18), 'RaaJVinderkaur'),\n",
       " (datetime.date(2021, 2, 15), 'neetuanjle_nitu'),\n",
       " (datetime.date(2021, 2, 20), 'Preetm91'),\n",
       " (datetime.date(2021, 2, 23), 'MangalJ23056160'),\n",
       " (datetime.date(2021, 2, 19), 'Surrypuria')]"
      ]
     },
     "execution_count": 21,
     "metadata": {},
     "output_type": "execute_result"
    }
   ],
   "source": [
    "q1_memory.q1_memory(file_path)"
   ]
  },
  {
   "cell_type": "code",
   "execution_count": 6,
   "metadata": {},
   "outputs": [
    {
     "name": "stdout",
     "output_type": "stream",
     "text": [
      "1.71 s ± 45.3 ms per loop (mean ± std. dev. of 7 runs, 1 loop each)\n"
     ]
    }
   ],
   "source": [
    "%timeit q1_time.q1_time(file_path)"
   ]
  },
  {
   "cell_type": "code",
   "execution_count": 7,
   "metadata": {},
   "outputs": [
    {
     "name": "stdout",
     "output_type": "stream",
     "text": [
      "peak memory: 661.45 MiB, increment: 159.73 MiB\n"
     ]
    }
   ],
   "source": [
    "%memit q1_time.q1_time(file_path)"
   ]
  },
  {
   "cell_type": "code",
   "execution_count": 8,
   "metadata": {},
   "outputs": [
    {
     "name": "stdout",
     "output_type": "stream",
     "text": [
      "2.05 s ± 14 ms per loop (mean ± std. dev. of 7 runs, 1 loop each)\n"
     ]
    }
   ],
   "source": [
    "%timeit q1_memory.q1_memory(file_path)"
   ]
  },
  {
   "cell_type": "code",
   "execution_count": 9,
   "metadata": {},
   "outputs": [
    {
     "name": "stdout",
     "output_type": "stream",
     "text": [
      "peak memory: 467.67 MiB, increment: 0.00 MiB\n"
     ]
    }
   ],
   "source": [
    "%memit q1_memory.q1_memory(file_path)"
   ]
  },
  {
   "cell_type": "markdown",
   "metadata": {},
   "source": [
    "Conclusiones"
   ]
  },
  {
   "cell_type": "markdown",
   "metadata": {},
   "source": [
    "| Function    | Time | Peak Memory | Memory Increment |\n",
    "| -------- | ------- | ------- | ------- |\n",
    "| q1_time  | 1.71 s ± 45.3 ms per loop (mean ± std. dev. of 7 runs, 1 loop each)    | 661.45 MiB    | 159.73 MiB    |\n",
    "| q1_memory | 2.05 s ± 14 ms per loop (mean ± std. dev. of 7 runs, 1 loop each)     | 467.67 MiB     | 0.00 MiB     |"
   ]
  },
  {
   "cell_type": "markdown",
   "metadata": {},
   "source": [
    "La función q1_time es un 16.6% más rápida que q1_memory (1.71 s vs. 2.05 s), pero utiliza 41.4% más memoria en su pico (661.45 MiB vs. 467.67 MiB). Además, q1_time incrementa el uso de memoria en 159.73 MiB, mientras que q1_memory no genera incremento alguno. El trade-off es claro: q1_time sacrifica un 41.4% más de memoria por una mejora de 16.6% en velocidad, mientras que q1_memory prioriza la eficiencia de memoria a costa de tiempo."
   ]
  },
  {
   "cell_type": "markdown",
   "metadata": {},
   "source": [
    "#-------------------------------------------------------------------------------------------------------------------------------------------#"
   ]
  },
  {
   "cell_type": "markdown",
   "metadata": {},
   "source": [
    "Ejercicio 2"
   ]
  },
  {
   "cell_type": "markdown",
   "metadata": {},
   "source": [
    "Los top 10 emojis más usados con su respectivo conteo."
   ]
  },
  {
   "cell_type": "markdown",
   "metadata": {},
   "source": [
    "Time execution optimized"
   ]
  },
  {
   "cell_type": "code",
   "execution_count": 4,
   "metadata": {},
   "outputs": [
    {
     "data": {
      "text/plain": [
       "[('🙏', 5042),\n",
       " ('😂', 3060),\n",
       " ('🚜', 2972),\n",
       " ('🌾', 2182),\n",
       " ('🇮🇳', 2086),\n",
       " ('🤣', 1664),\n",
       " ('✊', 1651),\n",
       " ('❤️', 1382),\n",
       " ('🙏🏻', 1317),\n",
       " ('💚', 1040)]"
      ]
     },
     "execution_count": 4,
     "metadata": {},
     "output_type": "execute_result"
    }
   ],
   "source": [
    "q2_time.q2_time(file_path)"
   ]
  },
  {
   "cell_type": "markdown",
   "metadata": {},
   "source": [
    "Memory execution optimized"
   ]
  },
  {
   "cell_type": "code",
   "execution_count": 5,
   "metadata": {},
   "outputs": [
    {
     "data": {
      "text/plain": [
       "[('🙏', 5049),\n",
       " ('😂', 3072),\n",
       " ('🚜', 2972),\n",
       " ('🌾', 2182),\n",
       " ('🇮🇳', 2086),\n",
       " ('🤣', 1668),\n",
       " ('✊', 1651),\n",
       " ('❤️', 1382),\n",
       " ('🙏🏻', 1317),\n",
       " ('💚', 1040)]"
      ]
     },
     "execution_count": 5,
     "metadata": {},
     "output_type": "execute_result"
    }
   ],
   "source": [
    "q2_memory.q2_memory(file_path)"
   ]
  },
  {
   "cell_type": "code",
   "execution_count": 12,
   "metadata": {},
   "outputs": [
    {
     "name": "stdout",
     "output_type": "stream",
     "text": [
      "7.25 s ± 124 ms per loop (mean ± std. dev. of 7 runs, 1 loop each)\n"
     ]
    }
   ],
   "source": [
    "%timeit q2_time.q2_time(file_path)"
   ]
  },
  {
   "cell_type": "code",
   "execution_count": 13,
   "metadata": {},
   "outputs": [
    {
     "name": "stdout",
     "output_type": "stream",
     "text": [
      "peak memory: 574.36 MiB, increment: 49.19 MiB\n"
     ]
    }
   ],
   "source": [
    "%memit q2_time.q2_time(file_path)"
   ]
  },
  {
   "cell_type": "code",
   "execution_count": 14,
   "metadata": {},
   "outputs": [
    {
     "name": "stdout",
     "output_type": "stream",
     "text": [
      "7.5 s ± 57.2 ms per loop (mean ± std. dev. of 7 runs, 1 loop each)\n"
     ]
    }
   ],
   "source": [
    "%timeit q2_memory.q2_memory(file_path)"
   ]
  },
  {
   "cell_type": "code",
   "execution_count": 15,
   "metadata": {},
   "outputs": [
    {
     "name": "stdout",
     "output_type": "stream",
     "text": [
      "peak memory: 238.33 MiB, increment: -2.23 MiB\n"
     ]
    }
   ],
   "source": [
    "%memit q2_memory.q2_memory(file_path)"
   ]
  },
  {
   "cell_type": "markdown",
   "metadata": {},
   "source": [
    "Conclusiones"
   ]
  },
  {
   "cell_type": "markdown",
   "metadata": {},
   "source": [
    "| Function    | Time | Peak Memory | Memory Increment |\n",
    "| -------- | ------- | ------- | ------- |\n",
    "| q2_time  | 7.25 s ± 124 ms per loop (mean ± std. dev. of 7 runs, 1 loop each)    | 574.36 MiB    | 49.19 MiB    |\n",
    "| q2_memory | 7.5 s ± 57.2 ms per loop (mean ± std. dev. of 7 runs, 1 loop each)     | 238.33 MiB     | -2.23 MiB     |"
   ]
  },
  {
   "cell_type": "markdown",
   "metadata": {},
   "source": [
    "La función q2_time es un 3.3% más rápida que q2_memory (7.25 s vs. 7.5 s), pero consume 141% más memoria en su pico (574.36 MiB vs. 238.33 MiB). Además, q2_time incrementa el uso de memoria en 49.19 MiB, mientras que q2_memory reduce su consumo en 2.23 MiB. El trade-off aquí muestra que q2_time mejora el rendimiento en un 3.3% a cambio de un aumento significativo del uso de memoria, mientras que q2_memory prioriza la eficiencia de memoria sin un impacto notable en el tiempo."
   ]
  },
  {
   "cell_type": "markdown",
   "metadata": {},
   "source": [
    "#-------------------------------------------------------------------------------------------------------------------------------------------#"
   ]
  },
  {
   "cell_type": "markdown",
   "metadata": {},
   "source": [
    "Ejercicio 3"
   ]
  },
  {
   "cell_type": "markdown",
   "metadata": {},
   "source": [
    "El top 10 histórico de usuarios (username) más influyentes en función del conteo de las menciones (@) que registra cada uno de ellos."
   ]
  },
  {
   "cell_type": "markdown",
   "metadata": {},
   "source": [
    "Time execution optimized"
   ]
  },
  {
   "cell_type": "code",
   "execution_count": 9,
   "metadata": {},
   "outputs": [
    {
     "data": {
      "text/plain": [
       "[('narendramodi', 2261),\n",
       " ('Kisanektamorcha', 1836),\n",
       " ('RakeshTikaitBKU', 1639),\n",
       " ('PMOIndia', 1422),\n",
       " ('RahulGandhi', 1125),\n",
       " ('GretaThunberg', 1046),\n",
       " ('RaviSinghKA', 1015),\n",
       " ('rihanna', 972),\n",
       " ('UNHumanRights', 962),\n",
       " ('meenaharris', 925)]"
      ]
     },
     "execution_count": 9,
     "metadata": {},
     "output_type": "execute_result"
    }
   ],
   "source": [
    "q3_time.q3_time(file_path)"
   ]
  },
  {
   "cell_type": "markdown",
   "metadata": {},
   "source": [
    "Memory execution optimized"
   ]
  },
  {
   "cell_type": "code",
   "execution_count": 8,
   "metadata": {},
   "outputs": [
    {
     "data": {
      "text/plain": [
       "[('narendramodi', 2261),\n",
       " ('Kisanektamorcha', 1836),\n",
       " ('RakeshTikaitBKU', 1639),\n",
       " ('PMOIndia', 1422),\n",
       " ('RahulGandhi', 1125),\n",
       " ('GretaThunberg', 1046),\n",
       " ('RaviSinghKA', 1015),\n",
       " ('rihanna', 972),\n",
       " ('UNHumanRights', 962),\n",
       " ('meenaharris', 925)]"
      ]
     },
     "execution_count": 8,
     "metadata": {},
     "output_type": "execute_result"
    }
   ],
   "source": [
    "q3_memory.q3_memory(file_path)"
   ]
  },
  {
   "cell_type": "code",
   "execution_count": 17,
   "metadata": {},
   "outputs": [
    {
     "name": "stdout",
     "output_type": "stream",
     "text": [
      "1.47 s ± 12.2 ms per loop (mean ± std. dev. of 7 runs, 1 loop each)\n"
     ]
    }
   ],
   "source": [
    "%timeit q3_time.q3_time(file_path)"
   ]
  },
  {
   "cell_type": "code",
   "execution_count": 8,
   "metadata": {},
   "outputs": [
    {
     "name": "stdout",
     "output_type": "stream",
     "text": [
      "peak memory: 134.73 MiB, increment: 0.78 MiB\n"
     ]
    }
   ],
   "source": [
    "%memit q3_time.q3_time(file_path)"
   ]
  },
  {
   "cell_type": "code",
   "execution_count": 13,
   "metadata": {},
   "outputs": [
    {
     "name": "stdout",
     "output_type": "stream",
     "text": [
      "1.51 s ± 12.2 ms per loop (mean ± std. dev. of 7 runs, 1 loop each)\n"
     ]
    }
   ],
   "source": [
    "%timeit q3_memory.q3_memory(file_path)"
   ]
  },
  {
   "cell_type": "code",
   "execution_count": 16,
   "metadata": {},
   "outputs": [
    {
     "name": "stdout",
     "output_type": "stream",
     "text": [
      "peak memory: 132.03 MiB, increment: 0.00 MiB\n"
     ]
    }
   ],
   "source": [
    "%memit q3_memory.q3_memory(file_path)"
   ]
  },
  {
   "cell_type": "markdown",
   "metadata": {},
   "source": [
    "Conclusiones\n",
    "\n",
    "| Function    | Time | Peak Memory | Memory Increment |\n",
    "| -------- | ------- | ------- | ------- |\n",
    "| q3_time  | 1.47 s ± 12.2 ms per loop (mean ± std. dev. of 7 runs, 1 loop each)    | 134.73 MiB    | 0.78 MiB    |\n",
    "| q3_memory | 1.51 s ± 12.2 ms per loop (mean ± std. dev. of 7 runs, 1 loop each)     | 132.03 MiB     | 0.00 MiB     |"
   ]
  },
  {
   "cell_type": "markdown",
   "metadata": {},
   "source": [
    "q3_time ofrece una ligera mejora en el rendimiento en comparación con q3_memory a expensas de un incremento mínimo en el uso de memoria. Mientras que q3_memory es ligeramente más lenta pero mantiene un consumo de memoria constante, lo que podría ser preferible en escenarios donde la eficiencia de memoria es crítica."
   ]
  }
 ],
 "metadata": {
  "kernelspec": {
   "display_name": "Python 3",
   "language": "python",
   "name": "python3"
  },
  "language_info": {
   "codemirror_mode": {
    "name": "ipython",
    "version": 3
   },
   "file_extension": ".py",
   "mimetype": "text/x-python",
   "name": "python",
   "nbconvert_exporter": "python",
   "pygments_lexer": "ipython3",
   "version": "3.11.9"
  },
  "orig_nbformat": 4
 },
 "nbformat": 4,
 "nbformat_minor": 2
}
